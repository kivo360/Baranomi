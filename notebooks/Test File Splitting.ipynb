{
 "cells": [
  {
   "cell_type": "code",
   "execution_count": 2,
   "metadata": {},
   "outputs": [],
   "source": [
    "from baranomi import Baranomi"
   ]
  },
  {
   "cell_type": "code",
   "execution_count": 22,
   "metadata": {},
   "outputs": [],
   "source": [
    "import pathlib \n",
    "from operator import itemgetter"
   ]
  },
  {
   "cell_type": "code",
   "execution_count": 10,
   "metadata": {},
   "outputs": [],
   "source": [
    "import re"
   ]
  },
  {
   "cell_type": "code",
   "execution_count": 23,
   "metadata": {},
   "outputs": [],
   "source": [
    "files = list(pathlib.Path(\"./split_files/split_files_child/\").glob(\"*.txt\"))"
   ]
  },
  {
   "cell_type": "code",
   "execution_count": 24,
   "metadata": {},
   "outputs": [],
   "source": [
    "file_dict_arr = []\n",
    "for file in files:\n",
    "    fname = file.name\n",
    "    numbers = [int(s) for s in re.findall(r'\\b\\d+\\b', fname)]\n",
    "    if len(numbers) > 0:\n",
    "        item = {\n",
    "            \"file_name\": fname,\n",
    "            \"index\": numbers[0]\n",
    "        }\n",
    "        file_dict_arr.append(item)"
   ]
  },
  {
   "cell_type": "code",
   "execution_count": 33,
   "metadata": {},
   "outputs": [],
   "source": [
    "file_list = list(map(lambda x:  f\"./split_files/split_files_child/{x.get('file_name')}\", sorted(file_dict_arr, key=itemgetter('index'))))"
   ]
  },
  {
   "cell_type": "code",
   "execution_count": 34,
   "metadata": {},
   "outputs": [
    {
     "data": {
      "text/plain": [
       "['./split_files/split_files_child/derp-0.txt',\n",
       " './split_files/split_files_child/derp-1.txt',\n",
       " './split_files/split_files_child/derp-2.txt',\n",
       " './split_files/split_files_child/derp-3.txt',\n",
       " './split_files/split_files_child/derp-4.txt',\n",
       " './split_files/split_files_child/derp-5.txt',\n",
       " './split_files/split_files_child/derp-6.txt',\n",
       " './split_files/split_files_child/derp-7.txt',\n",
       " './split_files/split_files_child/derp-8.txt',\n",
       " './split_files/split_files_child/derp-9.txt',\n",
       " './split_files/split_files_child/derp-10.txt',\n",
       " './split_files/split_files_child/derp-11.txt',\n",
       " './split_files/split_files_child/derp-12.txt',\n",
       " './split_files/split_files_child/derp-13.txt',\n",
       " './split_files/split_files_child/derp-14.txt',\n",
       " './split_files/split_files_child/derp-15.txt',\n",
       " './split_files/split_files_child/derp-16.txt',\n",
       " './split_files/split_files_child/derp-17.txt',\n",
       " './split_files/split_files_child/derp-18.txt',\n",
       " './split_files/split_files_child/derp-19.txt',\n",
       " './split_files/split_files_child/derp-20.txt',\n",
       " './split_files/split_files_child/derp-21.txt',\n",
       " './split_files/split_files_child/derp-22.txt',\n",
       " './split_files/split_files_child/derp-23.txt',\n",
       " './split_files/split_files_child/derp-24.txt',\n",
       " './split_files/split_files_child/derp-25.txt',\n",
       " './split_files/split_files_child/derp-26.txt',\n",
       " './split_files/split_files_child/derp-27.txt',\n",
       " './split_files/split_files_child/derp-28.txt',\n",
       " './split_files/split_files_child/derp-29.txt',\n",
       " './split_files/split_files_child/derp-30.txt',\n",
       " './split_files/split_files_child/derp-31.txt',\n",
       " './split_files/split_files_child/derp-32.txt',\n",
       " './split_files/split_files_child/derp-33.txt',\n",
       " './split_files/split_files_child/derp-34.txt',\n",
       " './split_files/split_files_child/derp-35.txt',\n",
       " './split_files/split_files_child/derp-36.txt',\n",
       " './split_files/split_files_child/derp-37.txt',\n",
       " './split_files/split_files_child/derp-38.txt',\n",
       " './split_files/split_files_child/derp-39.txt',\n",
       " './split_files/split_files_child/derp-40.txt',\n",
       " './split_files/split_files_child/derp-41.txt',\n",
       " './split_files/split_files_child/derp-42.txt',\n",
       " './split_files/split_files_child/derp-43.txt',\n",
       " './split_files/split_files_child/derp-44.txt',\n",
       " './split_files/split_files_child/derp-45.txt',\n",
       " './split_files/split_files_child/derp-46.txt',\n",
       " './split_files/split_files_child/derp-47.txt',\n",
       " './split_files/split_files_child/derp-48.txt',\n",
       " './split_files/split_files_child/derp-49.txt',\n",
       " './split_files/split_files_child/derp-50.txt',\n",
       " './split_files/split_files_child/derp-51.txt',\n",
       " './split_files/split_files_child/derp-52.txt',\n",
       " './split_files/split_files_child/derp-53.txt',\n",
       " './split_files/split_files_child/derp-54.txt',\n",
       " './split_files/split_files_child/derp-55.txt',\n",
       " './split_files/split_files_child/derp-56.txt',\n",
       " './split_files/split_files_child/derp-57.txt',\n",
       " './split_files/split_files_child/derp-58.txt',\n",
       " './split_files/split_files_child/derp-59.txt',\n",
       " './split_files/split_files_child/derp-60.txt',\n",
       " './split_files/split_files_child/derp-61.txt',\n",
       " './split_files/split_files_child/derp-62.txt',\n",
       " './split_files/split_files_child/derp-63.txt',\n",
       " './split_files/split_files_child/derp-64.txt',\n",
       " './split_files/split_files_child/derp-65.txt',\n",
       " './split_files/split_files_child/derp-66.txt',\n",
       " './split_files/split_files_child/derp-67.txt',\n",
       " './split_files/split_files_child/derp-68.txt',\n",
       " './split_files/split_files_child/derp-69.txt',\n",
       " './split_files/split_files_child/derp-70.txt',\n",
       " './split_files/split_files_child/derp-71.txt',\n",
       " './split_files/split_files_child/derp-72.txt',\n",
       " './split_files/split_files_child/derp-73.txt',\n",
       " './split_files/split_files_child/derp-74.txt',\n",
       " './split_files/split_files_child/derp-75.txt',\n",
       " './split_files/split_files_child/derp-76.txt',\n",
       " './split_files/split_files_child/derp-77.txt',\n",
       " './split_files/split_files_child/derp-78.txt',\n",
       " './split_files/split_files_child/derp-79.txt',\n",
       " './split_files/split_files_child/derp-80.txt',\n",
       " './split_files/split_files_child/derp-81.txt',\n",
       " './split_files/split_files_child/derp-82.txt',\n",
       " './split_files/split_files_child/derp-83.txt',\n",
       " './split_files/split_files_child/derp-84.txt',\n",
       " './split_files/split_files_child/derp-85.txt',\n",
       " './split_files/split_files_child/derp-86.txt',\n",
       " './split_files/split_files_child/derp-87.txt',\n",
       " './split_files/split_files_child/derp-88.txt',\n",
       " './split_files/split_files_child/derp-89.txt',\n",
       " './split_files/split_files_child/derp-90.txt',\n",
       " './split_files/split_files_child/derp-91.txt',\n",
       " './split_files/split_files_child/derp-92.txt',\n",
       " './split_files/split_files_child/derp-93.txt',\n",
       " './split_files/split_files_child/derp-94.txt',\n",
       " './split_files/split_files_child/derp-95.txt',\n",
       " './split_files/split_files_child/derp-96.txt',\n",
       " './split_files/split_files_child/derp-97.txt',\n",
       " './split_files/split_files_child/derp-98.txt',\n",
       " './split_files/split_files_child/derp-99.txt',\n",
       " './split_files/split_files_child/derp-100.txt']"
      ]
     },
     "execution_count": 34,
     "metadata": {},
     "output_type": "execute_result"
    }
   ],
   "source": [
    "file_list"
   ]
  },
  {
   "cell_type": "code",
   "execution_count": 37,
   "metadata": {},
   "outputs": [
    {
     "data": {
      "text/plain": [
       "<baranomi.pirates.Baranomi at 0x7f16badd85c0>"
      ]
     },
     "execution_count": 37,
     "metadata": {},
     "output_type": "execute_result"
    }
   ],
   "source": [
    "(\n",
    "    Baranomi(batch_size=1000000)\n",
    "    .load_file_list_as_bytes(file_list)\n",
    "    .join()\n",
    "    .save(\"aggregate.txt\")\n",
    ")"
   ]
  },
  {
   "cell_type": "code",
   "execution_count": 3,
   "metadata": {},
   "outputs": [],
   "source": []
  },
  {
   "cell_type": "code",
   "execution_count": null,
   "metadata": {},
   "outputs": [],
   "source": []
  },
  {
   "cell_type": "code",
   "execution_count": null,
   "metadata": {},
   "outputs": [],
   "source": []
  },
  {
   "cell_type": "code",
   "execution_count": null,
   "metadata": {},
   "outputs": [],
   "source": []
  }
 ],
 "metadata": {
  "kernelspec": {
   "display_name": "Python 3",
   "language": "python",
   "name": "python3"
  },
  "language_info": {
   "codemirror_mode": {
    "name": "ipython",
    "version": 3
   },
   "file_extension": ".py",
   "mimetype": "text/x-python",
   "name": "python",
   "nbconvert_exporter": "python",
   "pygments_lexer": "ipython3",
   "version": "3.6.8"
  },
  "varInspector": {
   "cols": {
    "lenName": 16,
    "lenType": 16,
    "lenVar": 40
   },
   "kernels_config": {
    "python": {
     "delete_cmd_postfix": "",
     "delete_cmd_prefix": "del ",
     "library": "var_list.py",
     "varRefreshCmd": "print(var_dic_list())"
    },
    "r": {
     "delete_cmd_postfix": ") ",
     "delete_cmd_prefix": "rm(",
     "library": "var_list.r",
     "varRefreshCmd": "cat(var_dic_list()) "
    }
   },
   "types_to_exclude": [
    "module",
    "function",
    "builtin_function_or_method",
    "instance",
    "_Feature"
   ],
   "window_display": false
  }
 },
 "nbformat": 4,
 "nbformat_minor": 2
}
